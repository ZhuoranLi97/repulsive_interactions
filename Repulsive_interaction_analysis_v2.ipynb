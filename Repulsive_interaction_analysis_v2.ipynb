{
 "cells": [
  {
   "cell_type": "code",
   "execution_count": 2,
   "id": "ba2106d4-299d-4959-8a78-49b1f9a0094f",
   "metadata": {},
   "outputs": [],
   "source": [
    "import scanpy as sc\n",
    "import os\n",
    "import pandas as pd\n",
    "import numpy as np\n",
    "from anndata import AnnData, read_h5ad\n",
    "import anndata as ad\n",
    "from scipy.stats import pearsonr, norm, ttest_ind, fisher_exact, kruskal, shapiro\n",
    "from statsmodels.stats.multitest import multipletests\n",
    "from statsmodels.stats.multicomp import pairwise_tukeyhsd\n",
    "import seaborn as sns\n",
    "import nrrd\n",
    "import matplotlib.pyplot as plt\n",
    "from scipy import stats\n",
    "import plotting_help_py37 as ph\n",
    "import LR_assist as lr"
   ]
  },
  {
   "cell_type": "code",
   "execution_count": 3,
   "id": "742352ec-1938-4f42-b55c-de5723ab2c8c",
   "metadata": {},
   "outputs": [
    {
     "name": "stdout",
     "output_type": "stream",
     "text": [
      "%pylab is deprecated, use %matplotlib inline and import the required libraries.\n",
      "Populating the interactive namespace from numpy and matplotlib\n"
     ]
    }
   ],
   "source": [
    "import warnings\n",
    "warnings.filterwarnings('ignore')\n",
    "%pylab inline\n",
    "%load_ext autoreload\n",
    "%autoreload 2"
   ]
  },
  {
   "cell_type": "markdown",
   "id": "f5cfb653-d2d1-4bfa-bdd5-9317317d500b",
   "metadata": {
    "tags": []
   },
   "source": [
    "## Expression"
   ]
  },
  {
   "cell_type": "code",
   "execution_count": 4,
   "id": "04d97111-ba5d-499b-b60c-9880b7435217",
   "metadata": {},
   "outputs": [],
   "source": [
    "ORN = read_h5ad('ORN_all_annotated_GH.h5ad')\n",
    "ORN_42h = ORN[(ORN.obs.stage == '42h')]\n",
    "ORN_24h = ORN[(ORN.obs.stage == '24h')]\n",
    "ORN_adult = ORN[(ORN.obs.stage == 'adult')]\n",
    "PN = read_h5ad('adata_PN_all_annotated_2022update.h5ad')\n",
    "PN_0h = PN[(PN.obs.stage == '0h')]\n",
    "PN_24h = PN[(PN.obs.stage == '24h')]\n",
    "PN_48h = PN[(PN.obs.stage == '48h')]\n",
    "PN_adult = PN[(PN.obs.stage == 'adult')]\n",
    "mm, _ = nrrd.read('OlfactoryGlomeruli_JFRC_python.nrrd')\n",
    "\n",
    "seqss1 = ORN_42h\n",
    "seqss2 = PN_24h\n",
    "gloms1 = list(np.unique(lr.get_glomtypes_from_seqss(seqss1, datatype_orn=True)))\n",
    "gloms2 = list(np.unique(lr.get_glomtypes_from_seqss(seqss2, datatype_orn=False)))\n",
    "gloms_shared = list(set(gloms1).intersection(gloms2))\n",
    "genes1 = list(seqss1.var_names)\n",
    "genes2 = list(seqss2.var_names)\n",
    "genes_shared = list(set(genes1).intersection(genes2))"
   ]
  },
  {
   "cell_type": "markdown",
   "id": "c327d658-898c-46d1-8974-52bee08f80f1",
   "metadata": {},
   "source": [
    "RNA preference index"
   ]
  },
  {
   "cell_type": "code",
   "execution_count": 26,
   "id": "3b166956-7342-43cd-8643-1f3c41c18cdf",
   "metadata": {},
   "outputs": [],
   "source": [
    "PN=PN_24h\n",
    "ORN=ORN_24h\n",
    "gene = 'kirre'\n",
    "PN_gene1 = PN[:, (PN.var_names == gene)]\n",
    "ORN_gene2 = ORN[:, (ORN.var_names == gene)]\n",
    "PN_gene1_d = PN_gene1[lr.get_glomtypes_from_seqss(PN, False) == 'VA1d']\n",
    "ORN_gene2_d = ORN_gene2[lr.get_glomtypes_from_seqss(ORN, True) == 'VA1d']\n",
    "PN_gene1_v = PN_gene1[lr.get_glomtypes_from_seqss(PN, False) == 'VA1v']\n",
    "ORN_gene2_v = ORN_gene2[lr.get_glomtypes_from_seqss(ORN, True) == 'VA1v']\n",
    "PN_mean_d=np.nanmean(PN_gene1_d.X, axis=0)\n",
    "ORN_mean_d=np.nanmean(ORN_gene2_d.X, axis=0)\n",
    "PN_mean_v=np.nanmean(PN_gene1_v.X, axis=0)\n",
    "ORN_mean_v=np.nanmean(ORN_gene2_v.X, axis=0)\n",
    "PN_preference_index=(PN_mean_d-PN_mean_v)/(PN_mean_d+PN_mean_v)\n",
    "ORN_preference_index=(ORN_mean_d-ORN_mean_v)/(ORN_mean_d+ORN_mean_v)"
   ]
  },
  {
   "cell_type": "code",
   "execution_count": 27,
   "id": "1cb8669e-45c6-4653-bb74-80cf796fab8c",
   "metadata": {},
   "outputs": [
    {
     "data": {
      "text/plain": [
       "[ArrayView([-0.0069587], dtype=float32),\n",
       " ArrayView([-0.05374074], dtype=float32)]"
      ]
     },
     "execution_count": 27,
     "metadata": {},
     "output_type": "execute_result"
    }
   ],
   "source": [
    "A = [PN_preference_index, ORN_preference_index]\n",
    "A"
   ]
  },
  {
   "cell_type": "markdown",
   "id": "2aa33a6c-2a49-4b1a-a40b-9cf82bf6e1d2",
   "metadata": {
    "jp-MarkdownHeadingCollapsed": true,
    "tags": []
   },
   "source": [
    "Plot for expression throughout the Antennal lobe"
   ]
  },
  {
   "cell_type": "code",
   "execution_count": 11,
   "id": "b6ea2d21-57f8-4e53-82cf-d6e749d1c6b3",
   "metadata": {},
   "outputs": [
    {
     "data": {
      "image/png": "[encoded data removed]",
      "text/plain": [
       "<Figure size 288x288 with 1 Axes>"
      ]
     },
     "metadata": {
      "needs_background": "light"
     },
     "output_type": "display_data"
    }
   ],
   "source": [
    "PN=PN_24h\n",
    "ORN=ORN_24h\n",
    "time = ['PN 24h APF','ORN 24h APF']\n",
    "gene1='Fili'\n",
    "gene2='kek1'\n",
    "glom_list=gloms_shared\n",
    "datatype_orn= [False,True]\n",
    "\n",
    "fig, ax = plt.subplots(figsize =(4, 4)) \n",
    "\n",
    "# calculate gene expression in each glom\n",
    "PN_gene1 = PN[:, (PN.var_names == gene1)]\n",
    "ORN_gene2 = ORN[:, (ORN.var_names == gene2)]\n",
    "PN_gene1_mean = []\n",
    "ORN_gene2_mean = []\n",
    "glom_list_new = []\n",
    "for glom_ in glom_list:\n",
    "    PN_gene1_glom = PN_gene1[lr.get_glomtypes_from_seqss(PN, False) == glom_]\n",
    "    ORN_gene2_glom = ORN_gene2[lr.get_glomtypes_from_seqss(ORN, True) == glom_]\n",
    "    PN_mean=np.nanmean(PN_gene1_glom.X, axis=0)\n",
    "    ORN_mean=np.nanmean(ORN_gene2_glom.X, axis=0)\n",
    "    if math.isnan(PN_mean) == False and math.isnan(ORN_mean) == False:\n",
    "        PN_gene1_mean.append(np.nanmean(PN_mean))\n",
    "        ORN_gene2_mean.append(np.nanmean(ORN_mean))\n",
    "        glom_list_new.append(glom_)\n",
    "\n",
    "r = lr.Pearson_correlation(np.array(PN_gene1_mean), np.array(ORN_gene2_mean))\n",
    "            \n",
    "plt.scatter(PN_gene1_mean, ORN_gene2_mean, color = 'black')\n",
    "plt.xlabel(str(gene1) + ' expression level (' + time[0] + ')', fontsize = 12)\n",
    "plt.ylabel(str(gene2) + ' expression level (' + time[1] + ')', fontsize = 12)\n",
    "plt.xlim(0, max(PN_gene1_mean)+0.5)\n",
    "plt.ylim(0, max(ORN_gene2_mean)+0.5)\n",
    "#plt.title('r = %.3f' % r)\n",
    "ax.spines['top'].set_visible(False)\n",
    "ax.spines['right'].set_visible(False)\n",
    "ax.spines['bottom'].set_color('grey')\n",
    "ax.spines['left'].set_color('grey')\n",
    "for i in range(len(PN_gene1_mean)):\n",
    "    plt.annotate(glom_list_new[i], (PN_gene1_mean[i]+0.025, ORN_gene2_mean[i]+0.2))\n",
    "#plt.show()\n",
    "plt.savefig('./stat/'+ gene1 + '_' + gene2 + '_relationship_1.pdf')"
   ]
  },
  {
   "cell_type": "code",
   "execution_count": 15,
   "id": "e0289603-198c-4e0b-a464-60b28bf35c65",
   "metadata": {},
   "outputs": [
    {
     "data": {
      "image/png": "[encoded data removed]",
      "text/plain": [
       "<Figure size 288x288 with 1 Axes>"
      ]
     },
     "metadata": {
      "needs_background": "light"
     },
     "output_type": "display_data"
    }
   ],
   "source": [
    "ORN=ORN_24h\n",
    "PN=PN_24h\n",
    "time = ['ORN 24h APF','PN 24h APF']\n",
    "gene1='Fili'\n",
    "gene2='kek1'\n",
    "glom_list=gloms_shared\n",
    "datatype_orn= [True,False]\n",
    "\n",
    "fig, ax = plt.subplots(figsize =(4,4)) \n",
    "\n",
    "# calculate gene expression in each glom\n",
    "PN_gene1 = PN[:, (PN.var_names == gene2)]\n",
    "ORN_gene2 = ORN[:, (ORN.var_names == gene1)]\n",
    "PN_gene1_mean = []\n",
    "ORN_gene2_mean = []\n",
    "glom_list_new = []\n",
    "for glom_ in glom_list:\n",
    "    PN_gene1_glom = PN_gene1[lr.get_glomtypes_from_seqss(PN, False) == glom_]\n",
    "    ORN_gene2_glom = ORN_gene2[lr.get_glomtypes_from_seqss(ORN, True) == glom_]\n",
    "    PN_mean=np.nanmean(PN_gene1_glom.X, axis=0)\n",
    "    ORN_mean=np.nanmean(ORN_gene2_glom.X, axis=0)\n",
    "    if math.isnan(PN_mean) == False and math.isnan(ORN_mean) == False:\n",
    "        PN_gene1_mean.append(np.nanmean(PN_mean))\n",
    "        ORN_gene2_mean.append(np.nanmean(ORN_mean))\n",
    "        glom_list_new.append(glom_)\n",
    "\n",
    "r = lr.Pearson_correlation(np.array(PN_gene1_mean), np.array(ORN_gene2_mean))\n",
    "            \n",
    "plt.scatter(ORN_gene2_mean, PN_gene1_mean, color = 'black')\n",
    "plt.xlabel(str(gene1) + ' expression level (' + time[0] + ')', fontsize = 12)\n",
    "plt.ylabel(str(gene2) + ' expression level (' + time[1] + ')', fontsize = 12)\n",
    "plt.xlim(0, max(ORN_gene2_mean)+0.5)\n",
    "plt.ylim(0, max(PN_gene1_mean)+0.5)\n",
    "#plt.title('r = : %.3f' % r)\n",
    "ax.spines['top'].set_visible(False)\n",
    "ax.spines['right'].set_visible(False)\n",
    "ax.spines['bottom'].set_color('grey')\n",
    "ax.spines['left'].set_color('grey')\n",
    "for i in range(len(PN_gene1_mean)):\n",
    "    plt.annotate(glom_list_new[i], (ORN_gene2_mean[i], PN_gene1_mean[i]))\n",
    "#plt.show()\n",
    "plt.savefig('./stat/'+ gene1 + '_' + gene2 + '_relationship_2.pdf')"
   ]
  },
  {
   "cell_type": "code",
   "execution_count": 11,
   "id": "593feb03-c343-4fce-a05b-1415096dc052",
   "metadata": {},
   "outputs": [
    {
     "data": {
      "image/png": "[encoded data removed]",
      "text/plain": [
       "<Figure size 288x288 with 1 Axes>"
      ]
     },
     "metadata": {
      "needs_background": "light"
     },
     "output_type": "display_data"
    }
   ],
   "source": [
    "PN=PN_24h\n",
    "ORN=ORN_24h\n",
    "time = ['PN 24h APF','ORN 24h APF']\n",
    "gene1='18w'\n",
    "gene2='Ptp10D'\n",
    "glom_list=gloms_shared\n",
    "datatype_orn= [False,True]\n",
    "\n",
    "fig, ax = plt.subplots(figsize =(4,4)) \n",
    "\n",
    "# calculate gene expression in each glom\n",
    "PN_gene1 = PN[:, (PN.var_names == gene1)]\n",
    "ORN_gene2 = ORN[:, (ORN.var_names == gene2)]\n",
    "PN_gene1_mean = []\n",
    "ORN_gene2_mean = []\n",
    "glom_list_new = []\n",
    "for glom_ in glom_list:\n",
    "    PN_gene1_glom = PN_gene1[lr.get_glomtypes_from_seqss(PN, False) == glom_]\n",
    "    ORN_gene2_glom = ORN_gene2[lr.get_glomtypes_from_seqss(ORN, True) == glom_]\n",
    "    PN_mean=np.nanmean(PN_gene1_glom.X, axis=0)\n",
    "    ORN_mean=np.nanmean(ORN_gene2_glom.X, axis=0)\n",
    "    if math.isnan(PN_mean) == False and math.isnan(ORN_mean) == False:\n",
    "        PN_gene1_mean.append(np.nanmean(PN_mean))\n",
    "        ORN_gene2_mean.append(np.nanmean(ORN_mean))\n",
    "        glom_list_new.append(glom_)\n",
    "\n",
    "r = lr.Pearson_correlation(np.array(PN_gene1_mean), np.array(ORN_gene2_mean))\n",
    "            \n",
    "plt.scatter(PN_gene1_mean, ORN_gene2_mean, color = 'black')\n",
    "plt.xlabel('Toll-2 in PNs (log2(CPM+1))', fontsize = 12)\n",
    "plt.ylabel(str(gene2) + ' in ORNs (log2(CPM+1))', fontsize = 12)\n",
    "#plt.xlim(0, max(PN_gene1_mean)+0.5)\n",
    "#plt.ylim(0, max(ORN_gene2_mean)+0.5)\n",
    "plt.xlim(0, 5)\n",
    "plt.ylim(0, 5)\n",
    "plt.title('Expression level at 24h APF')\n",
    "ax.spines['top'].set_visible(False)\n",
    "ax.spines['right'].set_visible(False)\n",
    "ax.spines['bottom'].set_color('grey')\n",
    "ax.spines['left'].set_color('grey')\n",
    "for i in range(len(PN_gene1_mean)):\n",
    "    plt.annotate(glom_list_new[i], (PN_gene1_mean[i], ORN_gene2_mean[i]))\n",
    "#plt.show()\n",
    "plt.savefig('./stat/'+ gene1 + '_' + gene2 + '_relationship_1.pdf')"
   ]
  },
  {
   "cell_type": "code",
   "execution_count": 9,
   "id": "31d0ef17-90b6-417f-8d6e-fea5aba5ad78",
   "metadata": {},
   "outputs": [
    {
     "data": {
      "image/png": "[encoded data removed]",
      "text/plain": [
       "<Figure size 288x288 with 1 Axes>"
      ]
     },
     "metadata": {
      "needs_background": "light"
     },
     "output_type": "display_data"
    }
   ],
   "source": [
    "ORN=ORN_24h\n",
    "PN=PN_24h\n",
    "time = ['ORN 24h APF','PN 24h APF']\n",
    "gene1='18w'\n",
    "gene2='Ptp10D'\n",
    "glom_list=gloms_shared\n",
    "datatype_orn= [True,False]\n",
    "\n",
    "fig, ax = plt.subplots(figsize =(4,4)) \n",
    "\n",
    "# calculate gene expression in each glom\n",
    "PN_gene1 = PN[:, (PN.var_names == gene2)]\n",
    "ORN_gene2 = ORN[:, (ORN.var_names == gene1)]\n",
    "PN_gene1_mean = []\n",
    "ORN_gene2_mean = []\n",
    "glom_list_new = []\n",
    "for glom_ in glom_list:\n",
    "    PN_gene1_glom = PN_gene1[lr.get_glomtypes_from_seqss(PN, False) == glom_]\n",
    "    ORN_gene2_glom = ORN_gene2[lr.get_glomtypes_from_seqss(ORN, True) == glom_]\n",
    "    PN_mean=np.nanmean(PN_gene1_glom.X, axis=0)\n",
    "    ORN_mean=np.nanmean(ORN_gene2_glom.X, axis=0)\n",
    "    if math.isnan(PN_mean) == False and math.isnan(ORN_mean) == False:\n",
    "        PN_gene1_mean.append(np.nanmean(PN_mean))\n",
    "        ORN_gene2_mean.append(np.nanmean(ORN_mean))\n",
    "        glom_list_new.append(glom_)\n",
    "\n",
    "r = lr.Pearson_correlation(np.array(PN_gene1_mean), np.array(ORN_gene2_mean))\n",
    "            \n",
    "plt.scatter(ORN_gene2_mean, PN_gene1_mean, color = 'black')\n",
    "plt.xlabel('Toll-2 in ORNs (log2(CPM+1))', fontsize = 12)\n",
    "plt.ylabel(str(gene2) + ' in PNs (log2(CPM+1))', fontsize = 12)\n",
    "#plt.xlim(0, max(ORN_gene2_mean)+0.5)\n",
    "#plt.ylim(0, max(PN_gene1_mean)+0.5)\n",
    "plt.xlim(0, 5)\n",
    "plt.ylim(0, 5)\n",
    "plt.title('Expression level at 24h APF')\n",
    "ax.spines['top'].set_visible(False)\n",
    "ax.spines['right'].set_visible(False)\n",
    "ax.spines['bottom'].set_color('grey')\n",
    "ax.spines['left'].set_color('grey')\n",
    "for i in range(len(PN_gene1_mean)):\n",
    "    plt.annotate(glom_list_new[i], (ORN_gene2_mean[i], PN_gene1_mean[i]))\n",
    "#plt.show()\n",
    "plt.savefig('./stat/'+ gene1 + '_' + gene2 + '_relationship_2.pdf')"
   ]
  },
  {
   "cell_type": "code",
   "execution_count": 7,
   "id": "f37ec2d1-6862-4240-a203-c8f797d222c1",
   "metadata": {},
   "outputs": [
    {
     "data": {
      "image/png": "[encoded data removed]",
      "text/plain": [
       "<Figure size 288x288 with 1 Axes>"
      ]
     },
     "metadata": {
      "needs_background": "light"
     },
     "output_type": "display_data"
    }
   ],
   "source": [
    "fig, ax = plt.subplots(figsize =(4,4)) \n",
    "plt.scatter(PN_gene1_mean, ORN_gene2_mean, color = 'black')\n",
    "plt.xlabel(str(gene1) + ' expression level (' + time[0] + ')', fontsize = 12)\n",
    "plt.ylabel(str(gene2) + ' expression level (' + time[1] + ')', fontsize = 12)\n",
    "plt.xlim(0, max(PN_gene1_mean)+0.5)\n",
    "plt.ylim(0, max(ORN_gene2_mean)+0.5)\n",
    "#plt.title('r = : %.3f' % r)\n",
    "ax.spines['top'].set_visible(False)\n",
    "ax.spines['right'].set_visible(False)\n",
    "ax.spines['bottom'].set_color('grey')\n",
    "ax.spines['left'].set_color('grey')\n",
    "for i in range(len(PN_gene1_mean)):\n",
    "    plt.annotate(glom_list_new[i], (PN_gene1_mean[i], ORN_gene2_mean[i]))\n",
    "#plt.show()\n",
    "plt.savefig('./stat/'+ gene1 + '_' + gene2 + '_relationship_1.png')"
   ]
  },
  {
   "cell_type": "code",
   "execution_count": 12,
   "id": "55da9cdd-051f-4478-a74b-1c3f65d63020",
   "metadata": {},
   "outputs": [
    {
     "data": {
      "image/png": "[encoded data removed]",
      "text/plain": [
       "<Figure size 288x288 with 1 Axes>"
      ]
     },
     "metadata": {
      "needs_background": "light"
     },
     "output_type": "display_data"
    }
   ],
   "source": [
    "fig, ax = plt.subplots(figsize =(4,4)) \n",
    "plt.scatter(PN_gene1_mean, ORN_gene3_mean, color = 'black')\n",
    "plt.xlabel(str(gene1) + ' expression level (' + time[0] + ')', fontsize = 12)\n",
    "plt.ylabel(str(gene3) + ' expression level (' + time[1] + ')', fontsize = 12)\n",
    "plt.xlim(0, max(PN_gene1_mean)+0.5)\n",
    "plt.ylim(0, max(ORN_gene3_mean))\n",
    "#plt.title('r = : %.3f' % r)\n",
    "ax.spines['top'].set_visible(False)\n",
    "ax.spines['right'].set_visible(False)\n",
    "ax.spines['bottom'].set_color('grey')\n",
    "ax.spines['left'].set_color('grey')\n",
    "for i in range(len(PN_gene1_mean)):\n",
    "    plt.annotate(glom_list_new[i], (PN_gene1_mean[i], ORN_gene3_mean[i]))\n",
    "#plt.show()\n",
    "plt.savefig('./stat/'+ gene1 + '_' + gene3 + '_relationship_1.png')"
   ]
  },
  {
   "cell_type": "code",
   "execution_count": 15,
   "id": "6e092955-3a02-45ae-a323-33e054178d35",
   "metadata": {},
   "outputs": [
    {
     "data": {
      "image/png": "[encoded data removed]",
      "text/plain": [
       "<Figure size 288x288 with 1 Axes>"
      ]
     },
     "metadata": {
      "needs_background": "light"
     },
     "output_type": "display_data"
    }
   ],
   "source": [
    "fig, ax = plt.subplots(figsize =(4,4)) \n",
    "plt.scatter(PN_gene1_mean, ORN_gene23_mean, color = 'black')\n",
    "plt.xlabel(str(gene1) + ' expression level (' + time[0] + ')', fontsize = 12)\n",
    "plt.ylabel(str(gene2) + str(gene3) + ' expression level (' + time[1] + ')', fontsize = 12)\n",
    "plt.xlim(0, max(PN_gene1_mean)+0.5)\n",
    "plt.ylim(0, max(ORN_gene23_mean)+0.5)\n",
    "#plt.title('r = : %.3f' % r)\n",
    "ax.spines['top'].set_visible(False)\n",
    "ax.spines['right'].set_visible(False)\n",
    "ax.spines['bottom'].set_color('grey')\n",
    "ax.spines['left'].set_color('grey')\n",
    "for i in range(len(PN_gene1_mean)):\n",
    "    plt.annotate(glom_list_new[i], (PN_gene1_mean[i], ORN_gene23_mean[i]))\n",
    "#plt.show()\n",
    "plt.savefig('./stat/'+ gene1 + '_' + gene3 + '_relationship_1.png')"
   ]
  },
  {
   "cell_type": "code",
   "execution_count": 26,
   "id": "bef5beef-6157-4087-8624-21efda9b6798",
   "metadata": {},
   "outputs": [],
   "source": [
    "#kirre\n",
    "PN=PN_24h\n",
    "ORN=ORN_24h\n",
    "time = ['ORN 24h APF','PN 24h APF']\n",
    "gene1='kirre'\n",
    "gene2='hbs'\n",
    "gene3='sns'\n",
    "glom_list=gloms_shared\n",
    "datatype_orn= [False,True]\n",
    "\n",
    "# calculate gene expression in each glom\n",
    "ORN_gene1 = ORN[:, (ORN.var_names == gene1)]\n",
    "PN_gene2 = PN[:, (PN.var_names == gene2)]\n",
    "PN_gene3 = PN[:, (PN.var_names == gene3)]\n",
    "ORN_gene1_mean = []\n",
    "ORN_gene1_mean_smaller = []\n",
    "PN_gene2_mean = []\n",
    "PN_gene3_mean = []\n",
    "PN_gene23_mean = []\n",
    "glom_list_new = []\n",
    "for glom_ in glom_list:\n",
    "    ORN_gene1_glom = ORN_gene1[lr.get_glomtypes_from_seqss(ORN, True) == glom_]\n",
    "    PN_gene2_glom = PN_gene2[lr.get_glomtypes_from_seqss(PN, False) == glom_]\n",
    "    PN_gene3_glom = PN_gene3[lr.get_glomtypes_from_seqss(PN, False) == glom_]\n",
    "    ORN_mean=np.nanmean(ORN_gene1_glom.X, axis=0)\n",
    "    PN_mean=np.nanmean(PN_gene2_glom.X, axis=0)\n",
    "    PN_mean3=np.nanmean(PN_gene3_glom.X, axis=0)\n",
    "    if math.isnan(PN_mean) == False and math.isnan(ORN_mean) == False:\n",
    "        ORN_gene1_mean.append(np.nanmean(ORN_mean))\n",
    "        ORN_gene1_mean_smaller.append(np.nanmean(ORN_mean-4)) #scale down kirre expression\n",
    "        PN_gene2_mean.append(np.nanmean(PN_mean))\n",
    "        PN_gene3_mean.append(np.nanmean(PN_mean3))\n",
    "        PN_gene23_mean.append(np.nanmean(PN_mean) + np.nanmean(PN_mean3))\n",
    "        glom_list_new.append(glom_)"
   ]
  },
  {
   "cell_type": "code",
   "execution_count": 11,
   "id": "38ba7b13-7060-4529-92c2-f31489a8afc8",
   "metadata": {},
   "outputs": [
    {
     "data": {
      "image/png": "[encoded data removed]",
      "text/plain": [
       "<Figure size 288x288 with 1 Axes>"
      ]
     },
     "metadata": {
      "needs_background": "light"
     },
     "output_type": "display_data"
    }
   ],
   "source": [
    "fig, ax = plt.subplots(figsize =(4,4)) \n",
    "plt.scatter(ORN_gene1_mean, PN_gene2_mean, color = 'black')\n",
    "plt.xlabel(str(gene1) + ' expression level (' + time[0] + ')', fontsize = 12)\n",
    "plt.ylabel(str(gene2) + ' expression level (' + time[1] + ')', fontsize = 12)\n",
    "plt.xlim(0, max(ORN_gene1_mean)+0.5)\n",
    "plt.ylim(0, max(PN_gene2_mean)+0.5)\n",
    "r = lr.Pearson_correlation(np.array(ORN_gene1_mean), np.array(PN_gene2_mean))\n",
    "plt.title('r = : %.3f' % r)\n",
    "ax.spines['top'].set_visible(False)\n",
    "ax.spines['right'].set_visible(False)\n",
    "ax.spines['bottom'].set_color('grey')\n",
    "ax.spines['left'].set_color('grey')\n",
    "for i in range(len(ORN_gene1_mean)):\n",
    "    plt.annotate(glom_list_new[i], (ORN_gene1_mean[i], PN_gene2_mean[i]))\n",
    "#plt.show()\n",
    "plt.savefig('./stat/'+ gene1 + '_' + gene2 + '_relationship_1.pdf')"
   ]
  },
  {
   "cell_type": "code",
   "execution_count": 27,
   "id": "4d14b742-1a39-47b0-ad13-c3885032a553",
   "metadata": {},
   "outputs": [
    {
     "data": {
      "image/png": "[encoded data removed]",
      "text/plain": [
       "<Figure size 288x288 with 1 Axes>"
      ]
     },
     "metadata": {
      "needs_background": "light"
     },
     "output_type": "display_data"
    }
   ],
   "source": [
    "fig, ax = plt.subplots(figsize =(4,4)) \n",
    "plt.scatter(ORN_gene1_mean, PN_gene3_mean, color = 'black')\n",
    "plt.xlabel(str(gene1) + ' expression level (' + time[0] + ')', fontsize = 12)\n",
    "plt.ylabel(str(gene3) + ' expression level (' + time[1] + ')', fontsize = 12)\n",
    "plt.xlim(0, max(ORN_gene1_mean)+0.5)\n",
    "plt.ylim(0, max(PN_gene3_mean)+0.5)\n",
    "r = lr.Pearson_correlation(np.array(ORN_gene1_mean), np.array(PN_gene3_mean))\n",
    "plt.title('r = : %.3f' % r)\n",
    "ax.spines['top'].set_visible(False)\n",
    "ax.spines['right'].set_visible(False)\n",
    "ax.spines['bottom'].set_color('grey')\n",
    "ax.spines['left'].set_color('grey')\n",
    "for i in range(len(ORN_gene1_mean)):\n",
    "    plt.annotate(glom_list_new[i], (ORN_gene1_mean[i], PN_gene3_mean[i]))\n",
    "#plt.show()\n",
    "plt.savefig('./stat/'+ gene1 + '_' + gene3 + '_relationship_1.pdf')"
   ]
  },
  {
   "cell_type": "code",
   "execution_count": 15,
   "id": "d7e163ce-a471-4bb9-8509-f168ea9db22d",
   "metadata": {},
   "outputs": [],
   "source": [
    "# data for 3D plot\n",
    "PN=PN_24h\n",
    "#time = ['PN 24h APF']\n",
    "gene1='Fili'\n",
    "gene2='18w'\n",
    "gene3='hbs'\n",
    "gene4='sns'\n",
    "glom_list=gloms2\n",
    "datatype_orn= False\n",
    "\n",
    "# calculate gene expression in each glom\n",
    "PN_gene1 = PN[:, (PN.var_names == gene1)]\n",
    "PN_gene2 = PN[:, (PN.var_names == gene2)]\n",
    "PN_gene3 = PN[:, (PN.var_names == gene3)]\n",
    "PN_gene4 = PN[:, (PN.var_names == gene4)]\n",
    "PN_gene1_mean = []\n",
    "PN_gene2_mean = []\n",
    "PN_gene3_mean = []\n",
    "PN_gene4_mean = []\n",
    "PN_gene34_mean = []\n",
    "glom_list_new = []\n",
    "for glom_ in glom_list:\n",
    "    PN_gene1_glom = PN_gene1[lr.get_glomtypes_from_seqss(PN, False) == glom_]\n",
    "    PN_gene2_glom = PN_gene2[lr.get_glomtypes_from_seqss(PN, False) == glom_]\n",
    "    PN_gene3_glom = PN_gene3[lr.get_glomtypes_from_seqss(PN, False) == glom_]\n",
    "    PN_gene4_glom = PN_gene4[lr.get_glomtypes_from_seqss(PN, False) == glom_]\n",
    "    PN_mean1=np.nanmean(PN_gene1_glom.X, axis=0)\n",
    "    PN_mean2=np.nanmean(PN_gene2_glom.X, axis=0)\n",
    "    PN_mean3=np.nanmean(PN_gene3_glom.X, axis=0)\n",
    "    PN_mean4=np.nanmean(PN_gene4_glom.X, axis=0)\n",
    "    PN_mean34=max(PN_mean3,PN_mean4)\n",
    "    if math.isnan(PN_mean1) == False and math.isnan(PN_mean2) == False:\n",
    "        PN_gene1_mean.append(np.nanmean(PN_mean1))\n",
    "        PN_gene2_mean.append(np.nanmean(PN_mean2))\n",
    "        PN_gene3_mean.append(np.nanmean(PN_mean3))\n",
    "        PN_gene4_mean.append(np.nanmean(PN_mean4))\n",
    "        PN_gene34_mean.append(np.nanmean(PN_mean34))\n",
    "        glom_list_new.append(glom_)\n",
    "data = {'glom':glom_list_new, 'Fili':PN_gene1_mean,'18w':PN_gene2_mean,'hbs-sns':PN_gene34_mean}\n",
    "df = pd.DataFrame(data)\n",
    "#df2 = pd.DataFrame({'glom':glom_list_new, 'Fili':PN_gene1_mean,'18w':PN_gene2_mean,'hbs':PN_gene3_mean,'sns':PN_gene4_mean,'hbs-sns':PN_gene34_mean})\n",
    "#df2\n",
    "df.to_excel('data3d.xlsx', index = False)"
   ]
  },
  {
   "cell_type": "markdown",
   "id": "d6a13945-5d90-4778-87ab-1f5956592ddc",
   "metadata": {
    "tags": []
   },
   "source": [
    "# Single manipulation penetrance"
   ]
  },
  {
   "cell_type": "code",
   "execution_count": 249,
   "id": "c8fff364-a376-475c-bc70-de7ea0a36b05",
   "metadata": {},
   "outputs": [],
   "source": [
    "experiment = 'lof_fili_PN_kek1_ORN'\n",
    "\n",
    "penetrance = [0*100, 16/30*100,14/26*100 , 9/22*100] #VA1d ORN into VA1v\n",
    "phenotype_label = ['VA1v ORN into VA1d']\n",
    "group_name = ['Wildtype','kek1 -/-', 'VA1v ORN >\\n kek1 RNAi v36252', 'VA1v ORN >\\n kek1 RNAi v101166']\n",
    "experiment_code = ['-','BJ1','BE1','BE2']"
   ]
  },
  {
   "cell_type": "code",
   "execution_count": 257,
   "id": "3fd9af01-ca51-4d4c-b886-eeb707ca57c6",
   "metadata": {},
   "outputs": [],
   "source": [
    "experiment = 'kek1_sparse'\n",
    "\n",
    "penetrance = [0, 14/16*100,6/16*100]\n",
    "phenotype_label = ['VA1d ORN into VA1v and DA1']\n",
    "group_name = ['Wildtype','VA1d ORN > kek1 OE','VA1d ORN Sparse > kek1 OE']\n",
    "experiment_code = ['-','AN4','BD2']"
   ]
  },
  {
   "cell_type": "code",
   "execution_count": 7,
   "id": "82b80cba-c491-461a-a4d5-e14535a0c312",
   "metadata": {},
   "outputs": [],
   "source": [
    "experiment = 'lof_toll2_PN_ptp10D_ORN'\n",
    "\n",
    "penetrance = [0*100, 8/18*100, (9+15)/(12+30)*100 , 3/12*100,8/29*100,9/20*100,6/10*100,20/34*100] #VA1d ORN into VA1v\n",
    "phenotype_label = ['VA1d ORN into VA1v']\n",
    "group_name = ['Wildtype', 'ptp10D -/-','VA1d ORN >\\n ptp10D RNAi 39001', 'VA1d ORN >\\n ptp10D RNAi v8010', \n",
    "              'Sparse VA1d ORN >\\n ptp10D RNAi 39001','Toll2 +/-','VA1v PN >\\n toll-2 RNAi 36305', 'VA1v PN >\\n toll-2 RNAi 30498']\n",
    "experiment_code = ['-','AB7','AX7,AN7','AN8','BD3','AG10','BA2','BA1']"
   ]
  },
  {
   "cell_type": "code",
   "execution_count": 11,
   "id": "d11d16db-b0b9-4706-a019-581249bd2d09",
   "metadata": {},
   "outputs": [],
   "source": [
    "experiment = 'lof_toll2_ORN_ptp10D_PN'\n",
    "\n",
    "penetrance = [0*100, 7/14*100 , 8/18*100, 3/17*100,5/14*100,10/23*100] #VA1d ORN into VA1v\n",
    "phenotype_label = ['VA1d PN into VA1v']\n",
    "group_name = ['Wildtype','VA1d + DA1 PN >\\n Ptp10D RNAi 39001', 'VA1d PN >\\n Ptp10D RNAi 39001', \n",
    "              'VA1d PN >\\n Ptp10D RNAi v8010', 'VA1v ORN >\\n Toll2 RNAi 36305', 'VA1v ORN >\\n Toll2 RNAi 30498']\n",
    "experiment_code = ['-','AM18','AM11','AM12','BK2','BK3']"
   ]
  },
  {
   "cell_type": "code",
   "execution_count": 265,
   "id": "015c7043-c9c6-4548-a75b-045ccbb311f2",
   "metadata": {},
   "outputs": [],
   "source": [
    "experiment = 'lof_hbssns_PN_kirre_ORN'\n",
    "\n",
    "penetrance = [0*100, 8/12*100,9/12*100, 9/18*100,\n",
    "              (6+8)/(8+14)*100, 4/10*100, 2/12*100 ,\n",
    "              6/10*100,6/16*100,] #VA1d ORN into VA1v\n",
    "phenotype_label = ['VA1v ORN into VA1d']\n",
    "group_name = ['Wildtype', 'kirre -/-','VA1v ORN >\\n kirre RNAi v109585', 'VA1v ORN >\\n kirre RNAi v6696', \n",
    "              'hbs -/+','VA1d + DA1 PN >\\n hbs RNAi 40898', 'VA1d + DA1 PN >\\n hbs RNAi 105913', \n",
    "              'sns-/-','VA1d + DA1 PN >\\n sns RNAi v109442',]\n",
    "experiment_code = ['-','BJ1''BC1','BE4',\n",
    "                   'BC2''BJ7','BE3','AE4',\n",
    "                   'BJ6','AE5-2',]"
   ]
  },
  {
   "cell_type": "code",
   "execution_count": 25,
   "id": "a557a276-0c37-403d-9d76-27e16373f5f7",
   "metadata": {},
   "outputs": [],
   "source": [
    "experiment = 'screening'\n",
    "penetrance = [0, 0, 0, 4/8*100, 7/7*100,5/8*100,9/12*100,8/12*100,14/20*100]\n",
    "phenotype_label = ['mistargeting']\n",
    "group_name = ['control','control','control','b','c','e','f','g','h']\n",
    "experiment_code = []"
   ]
  },
  {
   "cell_type": "code",
   "execution_count": 5,
   "id": "f2efdcc1-d41f-43ec-b9f6-10cc9f0b4c07",
   "metadata": {},
   "outputs": [],
   "source": [
    "experiment = 'kirreOE_DA4l'\n",
    "\n",
    "penetrance = [0, 3/12*100]\n",
    "phenotype_label = ['DA4l ORN mistargting']\n",
    "group_name = ['Wildtype','DA4l ORN > kirre OE']\n",
    "experiment_code = ['-','AZ6']"
   ]
  },
  {
   "cell_type": "code",
   "execution_count": 7,
   "id": "2e2ee262-a283-40d4-9a85-c5ecbcc3c31a",
   "metadata": {},
   "outputs": [],
   "source": [
    "experiment = 'kirreOE_DA1'\n",
    "\n",
    "penetrance = [0, 13/18*100]\n",
    "phenotype_label = ['DA1 ORN into VA1v']\n",
    "group_name = ['Wildtype','DA1 ORN > kirre OE']\n",
    "experiment_code = ['-','AE6']"
   ]
  },
  {
   "cell_type": "code",
   "execution_count": 9,
   "id": "b416e258-4cff-49b1-986b-861b73603dd4",
   "metadata": {},
   "outputs": [],
   "source": [
    "experiment = 'kek1RNAi_VM5v'\n",
    "\n",
    "penetrance = [0, 4/14*100]\n",
    "phenotype_label = ['VM5v PN mistarget']\n",
    "group_name = ['Wildtype','pan-PN > kek1 RNAi 101166']\n",
    "experiment_code = ['-','AT5']"
   ]
  },
  {
   "cell_type": "code",
   "execution_count": 26,
   "id": "90cee016-cf44-4306-951b-50fe68ba8698",
   "metadata": {},
   "outputs": [
    {
     "data": {
      "image/png": "[encoded data removed]",
      "text/plain": [
       "<Figure size 324x144 with 1 Axes>"
      ]
     },
     "metadata": {
      "needs_background": "light"
     },
     "output_type": "display_data"
    }
   ],
   "source": [
    "# plot piece\n",
    "\n",
    "# set width of bar \n",
    "barWidth = 0.75\n",
    "width = len(penetrance)*0.5\n",
    "\n",
    "fig, ax = plt.subplots(figsize =(width, 2)) # chcange between 1 and 2 for different height\n",
    "\n",
    "# Set position of bar on X axis \n",
    "br = np.arange(len(penetrance)) \n",
    " \n",
    "# Make the plot\n",
    "plt.bar(br, penetrance, color ='grey', width = barWidth, \n",
    "        edgecolor ='grey', alpha=0.5) \n",
    " \n",
    "# Adding Xticks \n",
    "#plt.xlabel('Branch', fontsize = 15) #fontweight ='bold'\n",
    "plt.ylabel('Penetrance(%)',  fontsize = 15) \n",
    "plt.xticks([r for r in range(len(penetrance))], \n",
    "        group_name,  rotation=90)\n",
    "\n",
    "plt.xticks(fontsize = 8)\n",
    "plt.yticks(fontsize = 8)\n",
    "plt.ylim((0,100))\n",
    "plt.title(phenotype_label[0])\n",
    "ax.spines['top'].set_visible(False)\n",
    "ax.spines['right'].set_visible(False)\n",
    "ax.spines['bottom'].set_color('grey')\n",
    "ax.spines['left'].set_color('grey')\n",
    "\n",
    "#plt.show()\n",
    "plt.savefig('./stat/'+experiment+'.pdf',dpi=300)"
   ]
  },
  {
   "cell_type": "markdown",
   "id": "9606fafc-70a3-4147-8b70-f71d6a051115",
   "metadata": {
    "tags": []
   },
   "source": [
    "# Mistarget ratio"
   ]
  },
  {
   "cell_type": "markdown",
   "id": "58b6ceb1-9bc5-4aea-8e7d-339b23354ae7",
   "metadata": {},
   "source": [
    "Information for drawing mask:\n",
    "\n",
    "using NCad to draw make for glomeruli\n"
   ]
  },
  {
   "cell_type": "code",
   "execution_count": 3,
   "id": "ab13b55a-67b0-4fad-b9dc-defbde2531f1",
   "metadata": {},
   "outputs": [],
   "source": [
    "# kirre\n",
    "experiment = 'kirre_dual_manipulation_mistarget_ratio_total.pdf'\n",
    "experiment_name = ['Control','BC9', 'BC17', 'BC18', 'BC16','BC7'] \n",
    "genotype = ['Control','sns+/+ \\nhbs+/+','sns-/- \\nhbs+/+', 'sns+/+ \\nhbs-/+', 'sns-/- \\nhbs-/+','kirre-/-'] #add /n to make it into two lines\n",
    "control_zero = len([1,1,3,3,4,4,5,5,])\n",
    "half_brain_zero = [control_zero,0, 0,0,0,0]\n",
    "ch_pn_list = [1,0,1,1,1,0]"
   ]
  },
  {
   "cell_type": "code",
   "execution_count": 12,
   "id": "c34fc612-a0ac-4286-91f4-e5b8e8cee861",
   "metadata": {},
   "outputs": [],
   "source": [
    "# fili kek1\n",
    "# gausiaan filter d=1\n",
    "experiment = 'kek1_dual_manipulation_mistarget_ratio_total.pdf'\n",
    "experiment_name = ['Control','AQ1','AN4','AQ2','AQ3'] \n",
    "genotype = ['Control','Fili-/-','VA1d ORN > kek1 OE', 'VA1d ORN > kek1 OE\\nFili-/+', 'VA1d ORN > kek1 OE\\nFili-/-'] #add /n to make it into two lines\n",
    "control_zero = len([1,1,3,3,4,4,5,5,])\n",
    "AQ1_zero = len([1,1,3,3])\n",
    "AQ2_zero = len([8,9,9,10,10,11,12,12,13])\n",
    "AQ3_zero = len([1,2,3,6,6, 7,7,8,8])\n",
    "half_brain_zero = [control_zero,  AQ1_zero,0,AQ2_zero,AQ3_zero]\n",
    "ch_pn_list = [1,0,0,0,0]"
   ]
  },
  {
   "cell_type": "code",
   "execution_count": 13,
   "id": "6c386295-0b1a-4130-8d7c-f604bed4f584",
   "metadata": {},
   "outputs": [
    {
     "name": "stdout",
     "output_type": "stream",
     "text": [
      ".//./mistarget/Control_d_d_Cross0d_w1118-2-VA1d.nrrd\n",
      ".//./mistarget/Control_TT-VA1d_VA1d-w1118-9-VA1d.nrrd\n",
      ".//./mistarget/Control_TT-VA1d_VA1d-w1118-10-VA1d.nrrd\n",
      ".//./mistarget/Control_TT-VA1d_VA1d-w1118-7-VA1d.nrrd\n",
      ".//./mistarget/AQ10-8_20240605_40X_16-VA1d.nrrd\n",
      ".//./mistarget/AQ10-8_20240605_40X_17-VA1d.nrrd\n",
      ".//./mistarget/AQ1_20230503_20X_2-VA1d.nrrd\n",
      ".//./mistarget/AQ10-8_20231002_20X_4-VA1d.nrrd\n",
      ".//./mistarget/AQ11_20240605_40X_6-VA1d.nrrd\n",
      ".//./mistarget/AN4_20230508_20X_6-VA1d.nrrd\n",
      ".//./mistarget/AN4_20230508_20X_7-VA1d.nrrd\n",
      ".//./mistarget/AN4_20230508_20X_5-VA1d.nrrd\n",
      ".//./mistarget/AN4_20230508_20X_1-VA1d.nrrd\n",
      ".//./mistarget/AN4_20230508_20X_3-VA1d.nrrd\n",
      ".//./mistarget/AN4_20230508_20X_8-VA1d.nrrd\n",
      ".//./mistarget/AQ2_20230502_20X_6-VA1d.nrrd\n",
      ".//./mistarget/AQ2_20230502_20X_7-VA1d.nrrd\n",
      ".//./mistarget/AQ2_20230426_20X_1-VA1d.nrrd\n",
      ".//./mistarget/AQ2_20230503_20X_13-VA1d.nrrd\n",
      ".//./mistarget/AQ2_20230503_20X_11-VA1d.nrrd\n",
      ".//./mistarget/AQ3_20230503_20X_2-VA1d.nrrd\n",
      ".//./mistarget/AQ3_20230426_20X_1-VA1d.nrrd\n",
      ".//./mistarget/AQ3_20230505_20X_4-VA1d.nrrd\n"
     ]
    }
   ],
   "source": [
    "# figure for VA1d into DA1/VA1v\n",
    "# ratio of VA1d ORN mistarget into VA1v and DA1 - area with thresholding\n",
    "folder_0 = './mistarget/'\n",
    "DA1_to_VA1d_area_all = []\n",
    "VA1v_to_VA1d_area_all = []\n",
    "mis_VA1d_area_all = []\n",
    "for i in range(len(genotype)):\n",
    "    recs = lr.get_recs_ORN_label(experiment_name[i], folder_0)\n",
    "    DA1_to_VA1d_area = []\n",
    "    VA1v_to_VA1d_area = []\n",
    "    mis_VA1d_area = []\n",
    "    for rec in recs:\n",
    "        print(rec.fn)\n",
    "        for side in range(2):\n",
    "            if rec.area_VA1d[side]>0:\n",
    "                DA1_to_VA1d_area.append(rec.area_DA1[side]/rec.area_VA1d[side])\n",
    "                VA1v_to_VA1d_area.append(rec.area_VA1v[side]/rec.area_VA1d[side])\n",
    "                mis_VA1d_area.append((rec.area_DA1[side]+rec.area_VA1v[side])/rec.area_VA1d[side])\n",
    "    for n in range(half_brain_zero[i]):\n",
    "        mis_VA1d_area.append(0)\n",
    "    DA1_to_VA1d_area_all.append(DA1_to_VA1d_area)\n",
    "    VA1v_to_VA1d_area_all.append(VA1v_to_VA1d_area)\n",
    "    mis_VA1d_area_all.append(mis_VA1d_area)"
   ]
  },
  {
   "cell_type": "code",
   "execution_count": 14,
   "id": "307dab80-40e4-45f9-9be1-ad0cae9d1acb",
   "metadata": {},
   "outputs": [
    {
     "name": "stdout",
     "output_type": "stream",
     "text": [
      "Control n = 15\n",
      "Fili-/- n = 11\n",
      "VA1d ORN > kek1 OE n = 11\n",
      "VA1d ORN > kek1 OE\n",
      "Fili-/+ n = 15\n",
      "VA1d ORN > kek1 OE\n",
      "Fili-/- n = 12\n"
     ]
    },
    {
     "data": {
      "image/png": "[encoded data removed]",
      "text/plain": [
       "<Figure size 216x144 with 1 Axes>"
      ]
     },
     "metadata": {
      "needs_background": "light"
     },
     "output_type": "display_data"
    }
   ],
   "source": [
    "# plot - area with thresholding\n",
    "#fig = plt.figure(figsize =(10, 7))\n",
    "fig, ax = plt.subplots(nrows = 1, ncols = 1, figsize = (3, 2)) \n",
    "\n",
    "# Creating plot\n",
    "bp1 = ax.boxplot(mis_VA1d_area_all, showfliers = False, \n",
    "                 #whiskerprops={'color': 'white', 'linewidth': 0},\n",
    "                 boxprops={'color': 'grey', 'linewidth': 0.5},\n",
    "                 meanprops={'color': 'r', 'linestyle': '--', 'linewidth': 2})\n",
    "ax.set_xticklabels(genotype)  # Set the labels for the x ticks\n",
    "ax.set_title('Miatargeting ratio of VA1d ORN')\n",
    "\n",
    "ave = []\n",
    "for i in range(len(genotype)):\n",
    "    ave.append(np.mean(mis_VA1d_area_all[i]))\n",
    "    y = []\n",
    "    for j in range(len(mis_VA1d_area_all[i])):\n",
    "        y.append(mis_VA1d_area_all[i][j])\n",
    "    x1 = np.random.normal(i + 1, 0.04, len(y))\n",
    "    ax.scatter(x1, y, s=10,facecolors='none', edgecolors='black')\n",
    "\n",
    "for i in range(len(genotype)):\n",
    "    print(genotype[i],'n =',len(mis_VA1d_area_all[i]))\n",
    "    \n",
    "ax.spines['top'].set_visible(False)\n",
    "ax.spines['right'].set_visible(False)\n",
    "\n",
    "#plt.show()\n",
    "plt.savefig('./stat/'+experiment, dpi=300)"
   ]
  },
  {
   "cell_type": "code",
   "execution_count": 75,
   "id": "a92d12b6-d53e-4a05-b463-d884d518d715",
   "metadata": {},
   "outputs": [
    {
     "name": "stdout",
     "output_type": "stream",
     "text": [
      "Kruskal-Wallis test statistic: 41.53180955717079, p-value: 7.325710763238194e-08\n",
      " Multiple Comparison of Means - Tukey HSD, FWER=0.05 \n",
      "=====================================================\n",
      "group1  group2 meandiff p-adj   lower   upper  reject\n",
      "-----------------------------------------------------\n",
      "  BC16    BC17   0.0622 0.4883 -0.0409  0.1652  False\n",
      "  BC16    BC18   0.0668 0.3589 -0.0319  0.1654  False\n",
      "  BC16     BC7   0.1981    0.0  0.0951  0.3012   True\n",
      "  BC16     BC9   0.1755 0.0002  0.0662  0.2848   True\n",
      "  BC16 Control  -0.0144 0.9975 -0.1085  0.0797  False\n",
      "  BC17    BC18   0.0046    1.0 -0.0941  0.1033  False\n",
      "  BC17     BC7    0.136 0.0034  0.0329   0.239   True\n",
      "  BC17     BC9   0.1133 0.0379   0.004  0.2226   True\n",
      "  BC17 Control  -0.0766 0.1738 -0.1707  0.0175  False\n",
      "  BC18     BC7   0.1314  0.003  0.0327  0.2301   True\n",
      "  BC18     BC9   0.1087 0.0388  0.0035  0.2139   True\n",
      "  BC18 Control  -0.0812  0.095 -0.1704  0.0081  False\n",
      "   BC7     BC9  -0.0226 0.9899  -0.132  0.0867  False\n",
      "   BC7 Control  -0.2126    0.0 -0.3066 -0.1185   True\n",
      "   BC9 Control  -0.1899    0.0 -0.2908  -0.089   True\n",
      "-----------------------------------------------------\n"
     ]
    }
   ],
   "source": [
    "# Kruskal-Wallis test\n",
    "H_statistic, p_value = stats.kruskal(*mis_VA1d_area_all)\n",
    "print(f\"Kruskal-Wallis test statistic: {H_statistic}, p-value: {p_value}\")\n",
    "\n",
    "# If the Kruskal-Wallis test is significant, perform the multiple comparison (Bonferroni correction)\n",
    "if p_value < 0.05:\n",
    "    # Combine the data into a single array\n",
    "    all_data = np.concatenate(mis_VA1d_area_all)\n",
    "    \n",
    "    # Create an array of group labels\n",
    "    labels = []\n",
    "    for i in range(len(genotype)):\n",
    "        labels += [experiment_name[i]]*len(mis_VA1d_area_all[i])\n",
    "    #labels = ['Group 1']*len(data[0]) + ['Group 2']*len(data[1]) + ['Group 3']*len(data[2]) + \\\n",
    "             #['Group 4']*len(data[3]) + ['Group 5']*len(data[4])\n",
    "    \n",
    "    # Perform pairwise comparison with Bonferroni correction using Tukey's HSD test\n",
    "    comparison = pairwise_tukeyhsd(all_data, labels, alpha=0.05)\n",
    "    print(comparison)\n",
    "else:\n",
    "    print(\"The Kruskal-Wallis test is not significant, so multiple comparisons are not necessary.\")"
   ]
  },
  {
   "cell_type": "code",
   "execution_count": 85,
   "id": "0246822c-387f-474a-9d36-b86bda4533d3",
   "metadata": {},
   "outputs": [
    {
     "name": "stdout",
     "output_type": "stream",
     "text": [
      "Shapiro-Wilk Test Statistic: 0.7948931455612183\n",
      "P-value: 0.012567178346216679\n"
     ]
    }
   ],
   "source": [
    "# Shapiro-Wilk test for normality\n",
    "statistic, p_value = stats.shapiro(mis_VA1d_area_all[4])\n",
    "\n",
    "# Print the result\n",
    "print(f\"Shapiro-Wilk Test Statistic: {statistic}\")\n",
    "print(f\"P-value: {p_value}\")"
   ]
  },
  {
   "cell_type": "markdown",
   "id": "2f66b015-945d-418c-86dd-2f66ba7166f8",
   "metadata": {},
   "source": [
    "For all tests, if the p-value is greater than 0.05, you do not reject the null hypothesis (i.e., the data is normally distributed). If the p-value is less than 0.05, you reject the null hypothesis (i.e., the data does not follow a normal distribution)."
   ]
  },
  {
   "cell_type": "code",
   "execution_count": 15,
   "id": "6c0b959c-e3b1-4dbe-bc46-f508fb2993cf",
   "metadata": {},
   "outputs": [],
   "source": [
    "# ptp10d 18w, into DA4l\n",
    "# gausiaan filter d=1\n",
    "experiment = '18w_dual_manipulation_mistarget_ratio_total.pdf'\n",
    "genotype = ['Control','VA1d ORN > 18w OE', 'Ptp10D -/Y ', 'VA1d ORN > 18w OE \\n Ptp10D -/Y']\n",
    "experiment_name = ['ControlPN','AQ9','AQ11','AQ10',] \n",
    "#AQ10-8 COUNT 0: \n",
    "control_zero = len([1,2,3,4,5,7,8,10,11,12,13])\n",
    "AQ10_zero = len([7,7,9,11,12,13,14,15,18])\n",
    "AQ11_zero = len([1,3,4,5,7,8,9,10,11])\n",
    "half_brain_zero = [control_zero,0,AQ11_zero,AQ10_zero]\n",
    "ch_pn_list = [1,3,0,0]\n"
   ]
  },
  {
   "cell_type": "code",
   "execution_count": 16,
   "id": "79fadf2e-bf0e-4328-ae73-3714b85e4ba9",
   "metadata": {},
   "outputs": [
    {
     "name": "stdout",
     "output_type": "stream",
     "text": [
      ".//./mistarget/AQ9_20231002_20X_2good-VA1d.nrrd\n",
      ".//./mistarget/AQ9_20231002_20X_8good-VA1d.nrrd\n",
      ".//./mistarget/AQ9_AN18_20230815_20x_4-VA1d.nrrd\n",
      ".//./mistarget/AQ9_AN18_20230815_20x_7-VA1d.nrrd\n",
      ".//./mistarget/AQ9_20231002_20X_9good-VA1d.nrrd\n",
      ".//./mistarget/AQ9_20231002_20X_4good-VA1d.nrrd\n",
      ".//./mistarget/AQ9_AN18_20230815_20x_8-VA1d.nrrd\n",
      ".//./mistarget/AQ9_20231002_20X_6good-VA1d.nrrd\n",
      ".//./mistarget/AQ9_20231002_20X_10good-VA1d.nrrd\n",
      ".//./mistarget/AQ9_20231002_20X_7good-VA1d.nrrd\n",
      ".//./mistarget/AQ11_20240605_40X_6-VA1d.nrrd\n",
      ".//./mistarget/AQ10-8_20240605_40X_16-VA1d.nrrd\n",
      ".//./mistarget/AQ10-8_20240605_40X_17-VA1d.nrrd\n",
      ".//./mistarget/AQ10-8_20231002_20X_4-VA1d.nrrd\n"
     ]
    }
   ],
   "source": [
    "# figure for VA1d into DA4l\n",
    "# ratio of VA1d ORN mistarget into VA1v and DA1 - area with thresholding\n",
    "folder_0 = './mistarget/'\n",
    "DA4l_to_VA1d_area_all = []\n",
    "for i in range(len(genotype)):\n",
    "    recs = lr.get_recs_ORN_label(experiment_name[i], folder_0)\n",
    "    DA4l_to_VA1d_area = []\n",
    "    for rec in recs:\n",
    "        print(rec.fn)\n",
    "        for side in range(2):\n",
    "            if rec.area_VA1d[side]>0:\n",
    "                DA4l_to_VA1d_area.append(rec.area_DA4l[side]/rec.area_VA1d[side])\n",
    "    for n in range(half_brain_zero[i]):\n",
    "        DA4l_to_VA1d_area.append(0)\n",
    "    DA4l_to_VA1d_area_all.append(DA4l_to_VA1d_area)"
   ]
  },
  {
   "cell_type": "code",
   "execution_count": 21,
   "id": "18ba8427-cd72-47ed-a072-ab2c3911a3ba",
   "metadata": {},
   "outputs": [
    {
     "name": "stdout",
     "output_type": "stream",
     "text": [
      "Control n = 11\n",
      "VA1d ORN > 18w OE n = 11\n",
      "Ptp10D -/Y  n = 10\n",
      "VA1d ORN > 18w OE \n",
      " Ptp10D -/Y n = 14\n"
     ]
    },
    {
     "data": {
      "image/png": "[encoded data removed]",
      "text/plain": [
       "<Figure size 144x144 with 1 Axes>"
      ]
     },
     "metadata": {
      "needs_background": "light"
     },
     "output_type": "display_data"
    }
   ],
   "source": [
    "# plot - area with thresholding\n",
    "#fig = plt.figure(figsize =(10, 7))\n",
    "fig, ax = plt.subplots(figsize = (2, 2)) \n",
    "\n",
    "# Creating plot\n",
    "bp1 = ax.boxplot(DA4l_to_VA1d_area_all,showfliers=False,\n",
    "                 #whiskerprops={'color': 'white', 'linewidth': 0},\n",
    "                 boxprops={'color': 'grey', 'linewidth': 0.5},\n",
    "                 meanprops={'color': 'r', 'linestyle': '--', 'linewidth': 2})\n",
    "ax.set_xticklabels(genotype)  # Set the labels for the x ticks\n",
    "#ax.set_title('Miatargeting ratio of VA1d PN')\n",
    "\n",
    "ave = []\n",
    "for i in range(len(genotype)):\n",
    "    ave.append(np.mean(DA4l_to_VA1d_area_all[i]))\n",
    "    y = []\n",
    "    for j in range(len(DA4l_to_VA1d_area_all[i])):\n",
    "        y.append(DA4l_to_VA1d_area_all[i][j])\n",
    "    x1 = np.random.normal(i + 1, 0.04, len(y))\n",
    "    ax.scatter(x1, y, s=10,facecolors='none', edgecolors='black')\n",
    "\n",
    "for i in range(len(genotype)):\n",
    "    print(genotype[i],'n =',len(DA4l_to_VA1d_area_all[i]))\n",
    "    \n",
    "ax.spines['top'].set_visible(False)\n",
    "ax.spines['right'].set_visible(False)\n",
    "\n",
    "#plt.show()\n",
    "plt.savefig('./stat/' + experiment + '.pdf', dpi=300)"
   ]
  },
  {
   "cell_type": "code",
   "execution_count": 61,
   "id": "3985474c-7354-4e06-9eec-847f7e825d9a",
   "metadata": {},
   "outputs": [
    {
     "name": "stdout",
     "output_type": "stream",
     "text": [
      "Kruskal-Wallis test statistic: 35.44692633000052, p-value: 9.80162833265105e-08\n",
      "  Multiple Comparison of Means - Tukey HSD, FWER=0.05  \n",
      "=======================================================\n",
      "group1   group2  meandiff p-adj   lower   upper  reject\n",
      "-------------------------------------------------------\n",
      "  AQ10      AQ11  -0.0006 0.9999 -0.0274  0.0263  False\n",
      "  AQ10       AQ9   0.0399 0.0011  0.0138   0.066   True\n",
      "  AQ10 ControlPN  -0.0009 0.9997 -0.0271  0.0252  False\n",
      "  AQ11       AQ9   0.0404 0.0024  0.0121  0.0687   True\n",
      "  AQ11 ControlPN  -0.0004    1.0 -0.0287  0.0279  False\n",
      "   AQ9 ControlPN  -0.0408 0.0016 -0.0684 -0.0132   True\n",
      "-------------------------------------------------------\n"
     ]
    }
   ],
   "source": [
    "# Kruskal-Wallis test\n",
    "H_statistic, p_value = stats.kruskal(*DA4l_to_VA1d_area_all)\n",
    "print(f\"Kruskal-Wallis test statistic: {H_statistic}, p-value: {p_value}\")\n",
    "\n",
    "# If the Kruskal-Wallis test is significant, perform the multiple comparison (Bonferroni correction)\n",
    "if p_value < 0.05:\n",
    "    # Combine the data into a single array\n",
    "    all_data = np.concatenate(DA4l_to_VA1d_area_all)\n",
    "    \n",
    "    # Create an array of group labels\n",
    "    labels = []\n",
    "    for i in range(len(genotype)):\n",
    "        labels += [experiment_name[i]]*len(DA4l_to_VA1d_area_all[i])\n",
    "    #labels = ['Group 1']*len(data[0]) + ['Group 2']*len(data[1]) + ['Group 3']*len(data[2]) + \\\n",
    "             #['Group 4']*len(data[3]) + ['Group 5']*len(data[4])\n",
    "    \n",
    "    # Perform pairwise comparison with Bonferroni correction using Tukey's HSD test\n",
    "    comparison = pairwise_tukeyhsd(all_data, labels, alpha=0.05)\n",
    "    print(comparison)\n",
    "else:\n",
    "    print(\"The Kruskal-Wallis test is not significant, so multiple comparisons are not necessary.\")"
   ]
  },
  {
   "cell_type": "code",
   "execution_count": 23,
   "id": "ef91407b-2600-491f-a5f6-fd092836873c",
   "metadata": {},
   "outputs": [],
   "source": [
    "# ptp10d 18w, into DC3\n",
    "# gausiaan filter d=1\n",
    "experiment = '18w_cell_type_specific_transcellular.pdf'\n",
    "genotype = ['Control','VA1d ORN > 18w OE', 'VA1d PN > PTP10d RNAi ', 'VA1d ORN > 18w OE \\n VA1d PN > PTP10d RNAi']\n",
    "experiment_name = ['BM2','BM6','BM7','BM8-2'] \n",
    "BM2_zero = len([9,9,8,7,6,5,5,3,3,2,1])\n",
    "BM7_zero = len([9,9,8,8,7,7,3,3,2,2])\n",
    "half_brain_zero = [BM2_zero,0,BM7_zero,0]\n",
    "ch_pn_list = [1,1,1,1]"
   ]
  },
  {
   "cell_type": "code",
   "execution_count": 24,
   "id": "affaf3a0-eb9e-4526-8aca-858d231ad5c8",
   "metadata": {},
   "outputs": [
    {
     "name": "stdout",
     "output_type": "stream",
     "text": [
      ".//./mistarget/BM2(splitPN)_20241223_20X_4-VA1d.nrrd\n",
      ".//./mistarget/BM6(splitPN)_20241209_20X_20-VA1d.nrrd\n",
      ".//./mistarget/BM6(splitPN)_20241209_20X_22-VA1d.nrrd\n",
      ".//./mistarget/BM6(splitPN)_20241209_20X_23-VA1d.nrrd\n",
      ".//./mistarget/BM6(splitPN)_20241209_20X_18-VA1d.nrrd\n",
      ".//./mistarget/BM6(splitPN)_20241209_20X_19-VA1d.nrrd\n",
      ".//./mistarget/BM6(splitPN)_20241209_20X_3-VA1d.nrrd\n",
      ".//./mistarget/BM6(splitPN)_20241209_20X_4-VA1d.nrrd\n",
      ".//./mistarget/BM6(splitPN)_20241209_20X_16-VA1d.nrrd\n",
      ".//./mistarget/BM6(splitPN)_20241209_20X_13-VA1d.nrrd\n",
      ".//./mistarget/BM6(splitPN)_20241209_20X_11-VA1d.nrrd\n",
      ".//./mistarget/BM7(splitPN)_20241229_20X_12(mis)-VA1d.nrrd\n",
      ".//./mistarget/BM7(splitPN)_20241229_20X_1-VA1d.nrrd\n",
      ".//./mistarget/BM8-2(splitPN)_20241209_20X_5-VA1d.nrrd\n",
      ".//./mistarget/BM8-2(splitPN)_20241209_20X_7-VA1d.nrrd\n",
      ".//./mistarget/BM8-2(splitPN)_20241209_20X_6-VA1d.nrrd\n",
      ".//./mistarget/BM8-2(splitPN)_20241209_20X_3-VA1d.nrrd\n",
      ".//./mistarget/BM8-2(splitPN)_20241209_20X_1-VA1d.nrrd\n",
      ".//./mistarget/BM8-2(splitPN)_20241209_20X_8-VA1d.nrrd\n",
      ".//./mistarget/BM8-2(splitPN)_20241209_20X_9-VA1d.nrrd\n"
     ]
    }
   ],
   "source": [
    "# figure for cell-type-specific transcellular assay\n",
    "# ratio of VA1d ORN mistarget into DC3 - area with thresholding\n",
    "folder_0 = './mistarget/'\n",
    "DC3_to_VA1d_area_all = []\n",
    "DC3_to_both_area_all = []\n",
    "for i in range(len(genotype)):\n",
    "    recs = lr.get_recs_ORN_label(experiment_name[i], folder_0)\n",
    "    DC3_to_VA1d_area = []\n",
    "    DC3_to_both_area = []\n",
    "    for rec in recs:\n",
    "        print(rec.fn)\n",
    "        for side in range(2):\n",
    "            if rec.area_VA1d[side]>0:\n",
    "                DC3_to_VA1d_area.append(rec.area_DC3[side]/rec.area_VA1d[side])\n",
    "                DC3_to_both_area.append(rec.area_DC3[side]/rec.area_total[side])\n",
    "    for n in range(half_brain_zero[i]):\n",
    "        DC3_to_VA1d_area.append(0)\n",
    "        DC3_to_both_area.append(0)\n",
    "    DC3_to_VA1d_area_all.append(DC3_to_VA1d_area)\n",
    "    DC3_to_both_area_all.append(DC3_to_both_area)"
   ]
  },
  {
   "cell_type": "code",
   "execution_count": 25,
   "id": "0948f8fd-bf7c-4246-8430-452dc4154eaf",
   "metadata": {},
   "outputs": [
    {
     "name": "stdout",
     "output_type": "stream",
     "text": [
      "Control n = 11 0.0\n",
      "VA1d ORN > 18w OE n = 13 0.41650917579168467\n",
      "VA1d PN > PTP10d RNAi  n = 13 0.0012480331523282563\n",
      "VA1d ORN > 18w OE \n",
      " VA1d PN > PTP10d RNAi n = 11 0.08596167630549066\n"
     ]
    },
    {
     "data": {
      "image/png": "[encoded data removed]",
      "text/plain": [
       "<Figure size 144x144 with 1 Axes>"
      ]
     },
     "metadata": {
      "needs_background": "light"
     },
     "output_type": "display_data"
    }
   ],
   "source": [
    "# plot - area with thresholding\n",
    "#fig = plt.figure(figsize =(10, 7))\n",
    "fig, ax = plt.subplots(figsize = (2, 2)) \n",
    "\n",
    "# Creating plot\n",
    "bp1 = ax.boxplot(DC3_to_both_area_all,showfliers=False,\n",
    "                 #whiskerprops={'color': 'white', 'linewidth': 0},\n",
    "                 boxprops={'color': 'grey', 'linewidth': 0.5},\n",
    "                 meanprops={'color': 'r', 'linestyle': '--', 'linewidth': 2})\n",
    "ax.set_xticklabels(genotype)  # Set the labels for the x ticks\n",
    "#ax.set_title('Miatargeting ratio of VA1d PN')\n",
    "plt.ylim(0,1)\n",
    "\n",
    "ave = []\n",
    "for i in range(len(genotype)):\n",
    "    ave.append(np.mean(DC3_to_both_area_all[i]))\n",
    "    y = []\n",
    "    for j in range(len(DC3_to_both_area_all[i])):\n",
    "        y.append(DC3_to_both_area_all[i][j])\n",
    "    x1 = np.random.normal(i + 1, 0.04, len(y))\n",
    "    ax.scatter(x1, y, s=10,facecolors='none', edgecolors='black')\n",
    "\n",
    "for i in range(len(genotype)):\n",
    "    print(genotype[i],'n =',len(DC3_to_both_area_all[i]), ave[i])\n",
    "    \n",
    "ax.spines['top'].set_visible(False)\n",
    "ax.spines['right'].set_visible(False)\n",
    "\n",
    "#plt.show()\n",
    "plt.savefig('./stat/' + experiment + '.pdf', dpi=300)"
   ]
  },
  {
   "cell_type": "code",
   "execution_count": 57,
   "id": "0f92b4ba-4416-47ab-9906-e3d1c2c6af4d",
   "metadata": {},
   "outputs": [
    {
     "name": "stdout",
     "output_type": "stream",
     "text": [
      "Kruskal-Wallis test statistic: 41.12743498619912, p-value: 6.144632035438994e-09\n",
      "Multiple Comparison of Means - Tukey HSD, FWER=0.05 \n",
      "====================================================\n",
      "group1 group2 meandiff p-adj   lower   upper  reject\n",
      "----------------------------------------------------\n",
      "   BM2    BM6   0.4165    0.0  0.2397  0.5934   True\n",
      "   BM2    BM7   0.0012    1.0 -0.1756  0.1781  False\n",
      "   BM2  BM8-2    0.086 0.6009 -0.0981    0.27  False\n",
      "   BM6    BM7  -0.4153    0.0 -0.5846 -0.2459   True\n",
      "   BM6  BM8-2  -0.3305 0.0001 -0.5074 -0.1537   True\n",
      "   BM7  BM8-2   0.0847 0.5809 -0.0921  0.2616  False\n",
      "----------------------------------------------------\n"
     ]
    }
   ],
   "source": [
    "# Kruskal-Wallis test\n",
    "H_statistic, p_value = stats.kruskal(*DC3_to_both_area_all)\n",
    "print(f\"Kruskal-Wallis test statistic: {H_statistic}, p-value: {p_value}\")\n",
    "\n",
    "# If the Kruskal-Wallis test is significant, perform the multiple comparison (Bonferroni correction)\n",
    "if p_value < 0.05:\n",
    "    # Combine the data into a single array\n",
    "    all_data = np.concatenate(DC3_to_both_area_all)\n",
    "    \n",
    "    # Create an array of group labels\n",
    "    labels = []\n",
    "    for i in range(len(genotype)):\n",
    "        labels += [experiment_name[i]]*len(DC3_to_both_area_all[i])\n",
    "    #labels = ['Group 1']*len(data[0]) + ['Group 2']*len(data[1]) + ['Group 3']*len(data[2]) + \\\n",
    "             #['Group 4']*len(data[3]) + ['Group 5']*len(data[4])\n",
    "    \n",
    "    # Perform pairwise comparison with Bonferroni correction using Tukey's HSD test\n",
    "    comparison = pairwise_tukeyhsd(all_data, labels, alpha=0.05)\n",
    "    print(comparison)\n",
    "else:\n",
    "    print(\"The Kruskal-Wallis test is not significant, so multiple comparisons are not necessary.\")"
   ]
  }
 ],
 "metadata": {
  "kernelspec": {
   "display_name": "Python 3 (ipykernel)",
   "language": "python",
   "name": "python3"
  },
  "language_info": {
   "codemirror_mode": {
    "name": "ipython",
    "version": 3
   },
   "file_extension": ".py",
   "mimetype": "text/x-python",
   "name": "python",
   "nbconvert_exporter": "python",
   "pygments_lexer": "ipython3",
   "version": "3.9.12"
  }
 },
 "nbformat": 4,
 "nbformat_minor": 5
}
